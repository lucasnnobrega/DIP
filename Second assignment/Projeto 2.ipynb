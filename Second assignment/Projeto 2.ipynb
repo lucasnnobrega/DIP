{
 "cells": [
  {
   "cell_type": "code",
   "execution_count": 1,
   "metadata": {},
   "outputs": [],
   "source": [
    "import numpy as np\n",
    "import matplotlib.pyplot as plt\n",
    "from PIL import Image\n",
    "import cv2\n",
    "import scipy.io.wavfile\n",
    "from scipy import fftpack\n",
    "import pydub\n",
    "from pydub.playback import play\n",
    "import math"
   ]
  },
  {
   "cell_type": "code",
   "execution_count": 2,
   "metadata": {},
   "outputs": [],
   "source": [
    "def dct1D(vector):\n",
    "    N = len(vector)\n",
    "    X = np.zeros(N)\n",
    "    for k in range(N):\n",
    "        CK = math.sqrt(1.0/N) if k == 0 else math.sqrt(2.0/N)\n",
    "        sum = 0\n",
    "        for n in range(N):\n",
    "            f1 = ((2*(3.141592653589)*k*n)/2*N)\n",
    "            f2 = ((k*(3.141592653589))/2*N)\n",
    "            sum += vector[n] * math.cos(f1+f2)\n",
    "            #sum += vector[n] * math.cos(((2*math.pi*k*n)/2*N)+((k*math.pi)/2*N))\n",
    "        X[k] = CK * sum\n",
    "\n",
    "    return X"
   ]
  },
  {
   "cell_type": "code",
   "execution_count": 3,
   "metadata": {},
   "outputs": [],
   "source": [
    "# CalculaIDCT"
   ]
  },
  {
   "cell_type": "code",
   "execution_count": 4,
   "metadata": {},
   "outputs": [],
   "source": [
    "def idct1D(vector):\n",
    "\n",
    "    N = len(vector)\n",
    "    x = np.zeros(N)\n",
    "\n",
    "    for n in range(N):\n",
    "        sum = 0\n",
    "        for k in range(N):\n",
    "            f1 = ((2*(3.141592653589)*k*n)/2*N)\n",
    "            f2 = ((k*(3.141592653589))/2*N)\n",
    "            CK = math.sqrt(1.0/N) if k == 0 else math.sqrt(2.0/N)\n",
    "            sum += vector[n] * math.cos(f1+f2)\n",
    "            sum += CK * vector[k] * math.cos((f1)+(f2))\n",
    "            #sum += alpha * vector[k] * math.cos( (math.pi * (2*n+1) * k) / (2*N) )\n",
    "        x[n] = sum\n",
    "\n",
    "    return x"
   ]
  },
  {
   "cell_type": "markdown",
   "metadata": {},
   "source": [
    "# Função para plotagem do gráfico com a DCT Filtrada"
   ]
  },
  {
   "cell_type": "code",
   "execution_count": 5,
   "metadata": {},
   "outputs": [],
   "source": [
    "def plotaDCTs(dct, dctFiltrada):\n",
    "    plt.figure('Domínio da Frequência')\n",
    "    plt.subplot(211)\n",
    "    plt.plot(dct, linewidth=0.1, alpha=1.0, color='blue')\n",
    "    plt.ylabel('Frequencia')\n",
    "    plt.subplot(212)\n",
    "    plt.plot(dctFiltrada, linewidth=0.1, alpha=1.0, color='blue')\n",
    "    plt.ylabel('Frequencia')\n",
    "    plt.show()"
   ]
  },
  {
   "cell_type": "code",
   "execution_count": 6,
   "metadata": {},
   "outputs": [],
   "source": [
    "def desenhaGrafico (data):\n",
    "    plt.figure('Data')\n",
    "    plt.plot(data, linewidth=0.1, alpha=1,color='red')\n",
    "    plt.ylabel('Amplitude')\n",
    "    plt.show()"
   ]
  },
  {
   "cell_type": "markdown",
   "metadata": {},
   "source": [
    "# DCTAudio"
   ]
  },
  {
   "cell_type": "code",
   "execution_count": 7,
   "metadata": {},
   "outputs": [
    {
     "name": "stderr",
     "output_type": "stream",
     "text": [
      "/home/lucasnn/.local/lib/python3.6/site-packages/scipy/io/wavfile.py:273: WavFileWarning: Chunk (non-data) not understood, skipping it.\n",
      "  WavFileWarning)\n"
     ]
    },
    {
     "data": {
      "image/png": "[encoded data removed]",
      "text/plain": [
       "<Figure size 432x288 with 1 Axes>"
      ]
     },
     "metadata": {
      "needs_background": "light"
     },
     "output_type": "display_data"
    }
   ],
   "source": [
    "rate, audioData = scipy.io.wavfile.read(\"audio.wav\")\n",
    "desenhaGrafico (audioData)"
   ]
  },
  {
   "cell_type": "code",
   "execution_count": 14,
   "metadata": {},
   "outputs": [
    {
     "ename": "KeyboardInterrupt",
     "evalue": "",
     "output_type": "error",
     "traceback": [
      "\u001b[0;31m---------------------------------------------------------------------------\u001b[0m",
      "\u001b[0;31mKeyboardInterrupt\u001b[0m                         Traceback (most recent call last)",
      "\u001b[0;32m<ipython-input-14-9f16a8251675>\u001b[0m in \u001b[0;36m<module>\u001b[0;34m\u001b[0m\n\u001b[0;32m----> 1\u001b[0;31m \u001b[0mDCT\u001b[0m \u001b[0;34m=\u001b[0m \u001b[0mdct1D\u001b[0m\u001b[0;34m(\u001b[0m\u001b[0maudioData\u001b[0m\u001b[0;34m)\u001b[0m\u001b[0;34m\u001b[0m\u001b[0;34m\u001b[0m\u001b[0m\n\u001b[0m\u001b[1;32m      2\u001b[0m \u001b[0;34m\u001b[0m\u001b[0m\n\u001b[1;32m      3\u001b[0m \u001b[0;31m#DCT = fftpack.dct(audioData, norm = 'ortho') #Calcula a Transformada Discreta\u001b[0m\u001b[0;34m\u001b[0m\u001b[0;34m\u001b[0m\u001b[0;34m\u001b[0m\u001b[0m\n\u001b[1;32m      4\u001b[0m \u001b[0;34m\u001b[0m\u001b[0m\n\u001b[1;32m      5\u001b[0m \u001b[0;34m\u001b[0m\u001b[0m\n",
      "\u001b[0;32m<ipython-input-2-f5b0a77c7fe3>\u001b[0m in \u001b[0;36mdct1D\u001b[0;34m(vector)\u001b[0m\n\u001b[1;32m      8\u001b[0m             \u001b[0mf1\u001b[0m \u001b[0;34m=\u001b[0m \u001b[0;34m(\u001b[0m\u001b[0;34m(\u001b[0m\u001b[0;36m2\u001b[0m\u001b[0;34m*\u001b[0m\u001b[0;34m(\u001b[0m\u001b[0;36m3.141592653589\u001b[0m\u001b[0;34m)\u001b[0m\u001b[0;34m*\u001b[0m\u001b[0mk\u001b[0m\u001b[0;34m*\u001b[0m\u001b[0mn\u001b[0m\u001b[0;34m)\u001b[0m\u001b[0;34m/\u001b[0m\u001b[0;36m2\u001b[0m\u001b[0;34m*\u001b[0m\u001b[0mN\u001b[0m\u001b[0;34m)\u001b[0m\u001b[0;34m\u001b[0m\u001b[0;34m\u001b[0m\u001b[0m\n\u001b[1;32m      9\u001b[0m             \u001b[0mf2\u001b[0m \u001b[0;34m=\u001b[0m \u001b[0;34m(\u001b[0m\u001b[0;34m(\u001b[0m\u001b[0mk\u001b[0m\u001b[0;34m*\u001b[0m\u001b[0;34m(\u001b[0m\u001b[0;36m3.141592653589\u001b[0m\u001b[0;34m)\u001b[0m\u001b[0;34m)\u001b[0m\u001b[0;34m/\u001b[0m\u001b[0;36m2\u001b[0m\u001b[0;34m*\u001b[0m\u001b[0mN\u001b[0m\u001b[0;34m)\u001b[0m\u001b[0;34m\u001b[0m\u001b[0;34m\u001b[0m\u001b[0m\n\u001b[0;32m---> 10\u001b[0;31m             \u001b[0msum\u001b[0m \u001b[0;34m+=\u001b[0m \u001b[0mvector\u001b[0m\u001b[0;34m[\u001b[0m\u001b[0mn\u001b[0m\u001b[0;34m]\u001b[0m \u001b[0;34m*\u001b[0m \u001b[0mmath\u001b[0m\u001b[0;34m.\u001b[0m\u001b[0mcos\u001b[0m\u001b[0;34m(\u001b[0m\u001b[0mf1\u001b[0m\u001b[0;34m+\u001b[0m\u001b[0mf2\u001b[0m\u001b[0;34m)\u001b[0m\u001b[0;34m\u001b[0m\u001b[0;34m\u001b[0m\u001b[0m\n\u001b[0m\u001b[1;32m     11\u001b[0m             \u001b[0;31m#sum += vector[n] * math.cos(((2*math.pi*k*n)/2*N)+((k*math.pi)/2*N))\u001b[0m\u001b[0;34m\u001b[0m\u001b[0;34m\u001b[0m\u001b[0;34m\u001b[0m\u001b[0m\n\u001b[1;32m     12\u001b[0m         \u001b[0mX\u001b[0m\u001b[0;34m[\u001b[0m\u001b[0mk\u001b[0m\u001b[0;34m]\u001b[0m \u001b[0;34m=\u001b[0m \u001b[0mCK\u001b[0m \u001b[0;34m*\u001b[0m \u001b[0msum\u001b[0m\u001b[0;34m\u001b[0m\u001b[0;34m\u001b[0m\u001b[0m\n",
      "\u001b[0;31mKeyboardInterrupt\u001b[0m: "
     ]
    }
   ],
   "source": [
    "DCT = dct1D(audioData)\n",
    "\n",
    "#DCT = fftpack.dct(audioData, norm = 'ortho') #Calcula a Transformada Discreta\n",
    "\n",
    "\n",
    "#print (DCT)\n",
    "dctFiltrada = DCT.copy()\n",
    "# print (dctFiltrada)"
   ]
  },
  {
   "cell_type": "code",
   "execution_count": 9,
   "metadata": {},
   "outputs": [],
   "source": [
    "listaComDCT = dctFiltrada.tolist() #Cria uma lista com os valores resultantes da Transformada Discreta\n",
    "#print(listaComDCT)\n",
    "Indices = []\n",
    "\n",
    "#Percorre todo o array e troca os valores pelo seu módulo\n",
    "for i in range(0, len(listaComDCT)):\n",
    "    listaComDCT[i] = abs(listaComDCT[i])\n",
    "    aux = listaComDCT.copy()\n",
    "\n",
    "#print(listaComDCT)"
   ]
  },
  {
   "cell_type": "code",
   "execution_count": 11,
   "metadata": {},
   "outputs": [
    {
     "name": "stdout",
     "output_type": "stream",
     "text": [
      "Digite o numero de frequencias desejadas12\n"
     ]
    }
   ],
   "source": [
    "numero_de_frequencias_desejadas = int(input(\"Digite o numero de frequencias desejadas\"))"
   ]
  },
  {
   "cell_type": "code",
   "execution_count": 12,
   "metadata": {},
   "outputs": [
    {
     "name": "stdout",
     "output_type": "stream",
     "text": [
      "[3749, 3756, 3668, 3750, 3744, 3777, 3641, 3740, 3697, 1605, 3839, 3699]\n"
     ]
    }
   ],
   "source": [
    "#Adiciona na lista os n índices de maior valor, com n = numero de amostras\n",
    "for i in range(0,numero_de_frequencias_desejadas):\n",
    "    Indices.append(listaComDCT.index(max(aux)))\n",
    "    indiceAux = aux.index(max(aux))\n",
    "    aux.pop(indiceAux)\n",
    "\n",
    "    # dctFiltrada = DCT.copy()\n",
    "\n",
    "print(Indices)"
   ]
  },
  {
   "cell_type": "code",
   "execution_count": 13,
   "metadata": {},
   "outputs": [
    {
     "data": {
      "image/png": "[encoded data removed]",
      "text/plain": [
       "<Figure size 432x288 with 2 Axes>"
      ]
     },
     "metadata": {
      "needs_background": "light"
     },
     "output_type": "display_data"
    }
   ],
   "source": [
    "#Preserva os DCT's de tamanho igual aos da lista de IndiceMaximo verificando se eles estão na lista e zera os demais\n",
    "for i in range(0, len(dctFiltrada)):\n",
    "    if i not in Indices:\n",
    "        dctFiltrada[i] = 0\n",
    "\n",
    "dctFiltrada = np.asarray(dctFiltrada)\n",
    "\n",
    "AudioTransformado = fftpack.idct(DCT, norm = 'ortho')\n",
    "AudioTransformado = AudioTransformado.astype(\"int16\")\n",
    "scipy.io.wavfile.write(\"audioTransformado.wav\", rate, AudioTransformado)\n",
    "\n",
    "AudioTransformadoImportantes = fftpack.idct(dctFiltrada, norm = 'ortho')\n",
    "AudioTransformadoImportantes = AudioTransformadoImportantes.astype(\"int16\")\n",
    "scipy.io.wavfile.write(\"AudioTransformadoImportantes.wav\", rate, AudioTransformadoImportantes)\n",
    "\n",
    "plotaDCTs(DCT, dctFiltrada)"
   ]
  },
  {
   "cell_type": "code",
   "execution_count": null,
   "metadata": {},
   "outputs": [],
   "source": []
  }
 ],
 "metadata": {
  "kernelspec": {
   "display_name": "Python 3",
   "language": "python",
   "name": "python3"
  },
  "language_info": {
   "codemirror_mode": {
    "name": "ipython",
    "version": 3
   },
   "file_extension": ".py",
   "mimetype": "text/x-python",
   "name": "python",
   "nbconvert_exporter": "python",
   "pygments_lexer": "ipython3",
   "version": "3.6.8"
  }
 },
 "nbformat": 4,
 "nbformat_minor": 2
}
