{
 "cells": [
  {
   "cell_type": "code",
   "execution_count": 6,
   "metadata": {},
   "outputs": [
    {
     "data": {
      "application/javascript": [
       "\n",
       "alert(\"Command below for displays that suports Full HD\")\n",
       "//var person = prompt(\"Type y for Full HD experience\", \"y/n\");\n",
       "//if(person == y){}\n"
      ],
      "text/plain": [
       "<IPython.core.display.Javascript object>"
      ]
     },
     "metadata": {},
     "output_type": "display_data"
    }
   ],
   "source": [
    "%%javascript\n",
    "\n",
    "alert(\"Command below for displays that suports Full HD\")\n",
    "//var person = prompt(\"Type y for Full HD experience\", \"y/n\");\n",
    "//if(person == y){}"
   ]
  },
  {
   "cell_type": "code",
   "execution_count": 7,
   "metadata": {},
   "outputs": [
    {
     "data": {
      "text/html": [
       "<style>.container { width:99% !important;}</style>"
      ],
      "text/plain": [
       "<IPython.core.display.HTML object>"
      ]
     },
     "metadata": {},
     "output_type": "display_data"
    }
   ],
   "source": [
    "from IPython.core.display import display, HTML\n",
    "display(HTML(\"<style>.container { width:99% !important;}</style>\"))"
   ]
  },
  {
   "cell_type": "markdown",
   "metadata": {},
   "source": [
    "# Import Librarys"
   ]
  },
  {
   "cell_type": "code",
   "execution_count": 8,
   "metadata": {},
   "outputs": [],
   "source": [
    "import numpy as np"
   ]
  },
  {
   "cell_type": "code",
   "execution_count": 9,
   "metadata": {},
   "outputs": [],
   "source": [
    "import pandas as pd"
   ]
  },
  {
   "cell_type": "code",
   "execution_count": 10,
   "metadata": {},
   "outputs": [],
   "source": [
    "%matplotlib inline\n",
    "#%matplotlib notebook\n",
    "import matplotlib.pyplot as plt\n",
    "# Make plots bigger again\n",
    "#plt.rcParams['figure.figsize'] = [17, 8]\n",
    "\n",
    "plt.rcParams['figure.figsize'] = [17*2, 8*2]"
   ]
  },
  {
   "cell_type": "code",
   "execution_count": 11,
   "metadata": {},
   "outputs": [],
   "source": [
    "import cv2"
   ]
  },
  {
   "cell_type": "code",
   "execution_count": 12,
   "metadata": {},
   "outputs": [],
   "source": [
    "import matplotlib.image as mpimg "
   ]
  },
  {
   "cell_type": "code",
   "execution_count": 13,
   "metadata": {},
   "outputs": [],
   "source": [
    "import sys"
   ]
  },
  {
   "cell_type": "markdown",
   "metadata": {},
   "source": [
    "# List files in the . path"
   ]
  },
  {
   "cell_type": "code",
   "execution_count": null,
   "metadata": {},
   "outputs": [],
   "source": [
    "%ls ."
   ]
  },
  {
   "cell_type": "code",
   "execution_count": null,
   "metadata": {},
   "outputs": [],
   "source": [
    "# Python program to read  \n",
    "# image using matplotlib \n",
    "  \n",
    "# importing matplotlib modules \n",
    "import matplotlib.image as mpimg \n",
    "  \n",
    "# Read Images \n",
    "img = mpimg.imread('./orl_faces/orl_faces/s1/1.pgm') \n",
    "  \n",
    "# Output Images \n",
    "plt.imshow(img, \"gray\") "
   ]
  },
  {
   "cell_type": "code",
   "execution_count": null,
   "metadata": {},
   "outputs": [],
   "source": [
    "fourier_image = np.fft.fft2(img)\n",
    "fourier_image"
   ]
  },
  {
   "cell_type": "markdown",
   "metadata": {},
   "source": [
    "## Splitting in real part"
   ]
  },
  {
   "cell_type": "code",
   "execution_count": null,
   "metadata": {
    "scrolled": true
   },
   "outputs": [],
   "source": [
    "fourier_image.real"
   ]
  },
  {
   "cell_type": "markdown",
   "metadata": {},
   "source": [
    "## Splitting in imaginary part"
   ]
  },
  {
   "cell_type": "code",
   "execution_count": null,
   "metadata": {},
   "outputs": [],
   "source": [
    "fourier_image.imag"
   ]
  },
  {
   "cell_type": "code",
   "execution_count": null,
   "metadata": {},
   "outputs": [],
   "source": [
    "plt.plot(fourier_image)"
   ]
  },
  {
   "cell_type": "code",
   "execution_count": null,
   "metadata": {},
   "outputs": [],
   "source": [
    "plt.show()"
   ]
  },
  {
   "cell_type": "code",
   "execution_count": null,
   "metadata": {
    "scrolled": true
   },
   "outputs": [],
   "source": [
    "pd.DataFrame(fourier_image).info()"
   ]
  },
  {
   "cell_type": "code",
   "execution_count": null,
   "metadata": {},
   "outputs": [],
   "source": [
    "pd.DataFrame(fourier_image.real).describe()"
   ]
  },
  {
   "cell_type": "code",
   "execution_count": null,
   "metadata": {},
   "outputs": [],
   "source": []
  },
  {
   "cell_type": "markdown",
   "metadata": {},
   "source": [
    "# Exemple using of OpenCV with Fast Fourier Transform"
   ]
  },
  {
   "cell_type": "code",
   "execution_count": null,
   "metadata": {},
   "outputs": [],
   "source": [
    "# Opening the file\n",
    "img = cv2.imread('./orl_faces/orl_faces/s1/1.pgm',0)\n",
    "\n",
    "# Fourier Bidimensional Tranform\n",
    "f = np.fft.fft2(img)\n",
    "\n",
    "#f[0][0] = 0\n",
    "\n",
    "# Shift the zero-frequency component to the center of the spectrum.\n",
    "fshift = np.fft.fftshift(f)\n",
    "\n",
    "# Shift the zero-frequency component to the center of the spectrum.\n",
    "fshiftRe = np.fft.fftshift(f.real)\n",
    "\n",
    "# Shift the zero-frequency component to the center of the spectrum.\n",
    "fshiftImag = np.fft.fftshift(f.imag)\n",
    "\n",
    "\n",
    "# Fourier transform in logarithm scale\n",
    "magnitude_spectrum = 20*np.log(np.abs(fshift))\n",
    "\n",
    "# Fourier transform of real part in logarithm scale\n",
    "magnitude_spectrum_re = 20*np.log(np.abs(fshiftRe))\n",
    "\n",
    "# Fourier transform of imaginary part in logarithm scale\n",
    "magnitude_spectrum_imag = 20*np.log(np.abs(fshiftImag))\n",
    "\n",
    "\n",
    "\n",
    "# Plots \n",
    "plt.subplot(231),plt.imshow(img, cmap = 'gray')\n",
    "plt.title('Input Image'), plt.xticks([]), plt.yticks([])\n",
    "\n",
    "plt.subplot(232),plt.imshow(np.abs(f), cmap = 'gray')\n",
    "plt.title('Fourier Transform'), plt.xticks([]), plt.yticks([])\n",
    "\n",
    "plt.subplot(233),plt.imshow(np.abs(fshift), cmap = 'gray')\n",
    "plt.title('Fourier with Shift'), plt.xticks([]), plt.yticks([])\n",
    "\n",
    "plt.subplot(234),plt.imshow(magnitude_spectrum, cmap = 'gray')\n",
    "plt.title('Magnitude Spectrum (log)'), plt.xticks([]), plt.yticks([])\n",
    "\n",
    "\n",
    "plt.subplot(235),plt.imshow(magnitude_spectrum_re, cmap = 'gray')\n",
    "plt.title('Magnitude Spectrum Real (log)'), plt.xticks([]), plt.yticks([])\n",
    "\n",
    "plt.subplot(236),plt.imshow(magnitude_spectrum_imag, cmap = 'gray')\n",
    "plt.title('Magnitude Spectrum Imaginary (log)'), plt.xticks([]), plt.yticks([])\n",
    "\n",
    "\n",
    "plt.show()"
   ]
  },
  {
   "cell_type": "code",
   "execution_count": null,
   "metadata": {},
   "outputs": [],
   "source": [
    "np.fft.ifft2(f).imag"
   ]
  },
  {
   "cell_type": "code",
   "execution_count": null,
   "metadata": {
    "scrolled": false
   },
   "outputs": [],
   "source": [
    "plt.subplot(131)\n",
    "plt.imshow(img, cmap = 'gray')\n",
    "plt.title('Input Image'), plt.xticks([]), plt.yticks([])\n",
    "\n",
    "plt.subplot(132)\n",
    "plt.imshow(np.fft.ifft2(f).real, cmap = 'gray')\n",
    "plt.title('Inverse Fourier Transform \\nResult of f'), plt.xticks([]), plt.yticks([])\n",
    "\n",
    "plt.subplot(133)\n",
    "plt.imshow(np.fft.ifft2(f).imag, cmap = 'gray')\n",
    "plt.title('Inverse Fourier Transform \\nResult of fshift'), plt.xticks([]), plt.yticks([])\n",
    "\n",
    "plt.show()"
   ]
  },
  {
   "cell_type": "code",
   "execution_count": null,
   "metadata": {},
   "outputs": [],
   "source": [
    "img == round(np.fft.ifft2(f).real)"
   ]
  },
  {
   "cell_type": "code",
   "execution_count": null,
   "metadata": {},
   "outputs": [],
   "source": [
    "img - np.fft.ifft2(f).real"
   ]
  },
  {
   "cell_type": "code",
   "execution_count": null,
   "metadata": {},
   "outputs": [],
   "source": [
    "print(img[0][1])\n",
    "print(np.fft.ifft2(f).real[0][1])\n",
    "\n",
    "print(img[0][0])\n",
    "print(np.fft.ifft2(f).real[0][0])"
   ]
  },
  {
   "cell_type": "markdown",
   "metadata": {},
   "source": [
    "# Project"
   ]
  },
  {
   "cell_type": "code",
   "execution_count": null,
   "metadata": {
    "scrolled": true
   },
   "outputs": [],
   "source": [
    "%ls orl_faces/orl_faces/"
   ]
  },
  {
   "cell_type": "code",
   "execution_count": null,
   "metadata": {},
   "outputs": [],
   "source": [
    "%ls orl_faces/orl_faces/s1"
   ]
  },
  {
   "cell_type": "code",
   "execution_count": null,
   "metadata": {},
   "outputs": [],
   "source": [
    "people = list()\n",
    "\n",
    "for j in range(1, 41):\n",
    "    for i in range(1, 11):\n",
    "        people.append(np.array(cv2.imread('./orl_faces/orl_faces/s' + str(j) + '/' + str(i) +'.pgm',0)))"
   ]
  },
  {
   "cell_type": "code",
   "execution_count": null,
   "metadata": {
    "scrolled": false
   },
   "outputs": [],
   "source": [
    "plt.imshow(people[302], \"gray\")"
   ]
  },
  {
   "cell_type": "code",
   "execution_count": null,
   "metadata": {},
   "outputs": [],
   "source": [
    "print(\"Lenght of list %s: %s\" % (\"people\", len(people)))"
   ]
  },
  {
   "cell_type": "code",
   "execution_count": null,
   "metadata": {},
   "outputs": [],
   "source": [
    "people_fft = list()\n",
    "\n",
    "for image in people:\n",
    "    # Fourier Bidimensional Tranform\n",
    "    people_fft.append(np.fft.fft2(image))"
   ]
  },
  {
   "cell_type": "code",
   "execution_count": null,
   "metadata": {},
   "outputs": [],
   "source": [
    "plt.imshow(np.fft.ifft2(people_fft[0]).real, cmap=\"gray\")"
   ]
  },
  {
   "cell_type": "code",
   "execution_count": null,
   "metadata": {},
   "outputs": [],
   "source": [
    "len(people_fft)"
   ]
  },
  {
   "cell_type": "code",
   "execution_count": null,
   "metadata": {},
   "outputs": [],
   "source": [
    "print(\"Variable people in bytes: \"     + str(sys.getsizeof(people)))\n",
    "print(\"Variable people_fft in bytes: \" + str(sys.getsizeof(people_fft)))"
   ]
  },
  {
   "cell_type": "markdown",
   "metadata": {},
   "source": [
    "# Analizing Data"
   ]
  },
  {
   "cell_type": "code",
   "execution_count": null,
   "metadata": {},
   "outputs": [],
   "source": [
    "nrows, ncols = 5, 10\n",
    "\n",
    "for j in range(0,nrows*ncols,10):\n",
    "    for i in range(1,11):\n",
    "        plt.subplot(nrows, ncols, i + j)\n",
    "        plt.imshow(people[i-1 + j], cmap = 'gray')\n",
    "        #plt.title('%s %s' %(i, j))\n",
    "        plt.xticks([]), plt.yticks([])\n",
    "plt.subplots_adjust(left=None, bottom=None, right=None, top=None, wspace=0.1, hspace=0.1)\n",
    "plt.show()"
   ]
  },
  {
   "cell_type": "code",
   "execution_count": null,
   "metadata": {},
   "outputs": [],
   "source": [
    "people_np_array = np.array(people)"
   ]
  },
  {
   "cell_type": "code",
   "execution_count": null,
   "metadata": {},
   "outputs": [],
   "source": [
    "people_np_array.shape"
   ]
  },
  {
   "cell_type": "code",
   "execution_count": null,
   "metadata": {},
   "outputs": [],
   "source": [
    "person = 39\n",
    "image = 9\n",
    "\n",
    "plt.imshow(np.reshape(people_np_array,(40,10,112,92))[person][image], cmap=\"gray\" )\n",
    "plt.xticks([]), plt.yticks([])\n",
    "plt.show()"
   ]
  },
  {
   "cell_type": "code",
   "execution_count": null,
   "metadata": {},
   "outputs": [],
   "source": [
    "people_np_array_4d = np.reshape(people_np_array,(40,10,112,92))\n",
    "#pd.DataFrame(people_np_array_4d)"
   ]
  },
  {
   "cell_type": "code",
   "execution_count": null,
   "metadata": {},
   "outputs": [],
   "source": [
    "people_labels = list()\n",
    "\n",
    "for i in range(40):\n",
    "    for j in range(10):\n",
    "        people_labels.append(i)\n",
    "        \n",
    "print(people_labels)"
   ]
  },
  {
   "cell_type": "code",
   "execution_count": null,
   "metadata": {},
   "outputs": [],
   "source": [
    "summ = 0\n",
    "for i in range(40):\n",
    "    summ += people_labels.count(i)\n",
    "print(summ)"
   ]
  },
  {
   "cell_type": "markdown",
   "metadata": {},
   "source": [
    "# Starting the knn"
   ]
  },
  {
   "cell_type": "code",
   "execution_count": null,
   "metadata": {},
   "outputs": [],
   "source": [
    "the_chosen_ones = list()"
   ]
  },
  {
   "cell_type": "code",
   "execution_count": null,
   "metadata": {},
   "outputs": [],
   "source": [
    "from sklearn.model_selection import GroupKFold\n",
    "\n",
    "X = [0.1, 0.2, 2.2, 2.4, 2.3, 4.55, 5.8, 8.8, 9, 10]\n",
    "y = [\"a\", \"b\", \"b\", \"b\", \"c\", \"c\", \"c\", \"d\", \"d\", \"d\"]\n",
    "groups = [1, 1, 1, 2, 2, 2, 3, 3, 3, 3]\n",
    "\n",
    "gkf = GroupKFold(n_splits=3)\n",
    "\n",
    "print(\"train \\t   \\t         test\")\n",
    "for train, test in gkf.split(X, y, groups=groups):\n",
    "    print(\"%s   \\t %s\" % (train, test))"
   ]
  },
  {
   "cell_type": "code",
   "execution_count": null,
   "metadata": {},
   "outputs": [],
   "source": [
    "from sklearn.model_selection import GroupKFold\n",
    "\n",
    "X = people               #[0.1, 0.2, 2.2, 2.4, 2.3, 4.55, 5.8, 8.8, 9, 10]\n",
    "y = people_labels        #[\"a\", \"b\", \"b\", \"b\", \"c\", \"c\", \"c\", \"d\", \"d\", \"d\"]\n",
    "groups = people_labels   #[1, 1, 1, 2, 2, 2, 3, 3, 3, 3]\n",
    "\n",
    "gkf = GroupKFold(n_splits=40)\n",
    "\n",
    "for train, test in gkf.split(X, y, groups=groups):\n",
    "    print(\"Train %s\" % (train))\n",
    "    print(\"Test  %s\" % (test))"
   ]
  },
  {
   "cell_type": "markdown",
   "metadata": {},
   "source": [
    "Python Code\n",
    "```\n",
    "X = [[0], [1], [2], [3]]\n",
    "y = [0, 0, 1, 1]\n",
    "from sklearn.neighbors import KNeighborsClassifier\n",
    "neigh = KNeighborsClassifier(n_neighbors=3)\n",
    "neigh.fit(X, y) \n",
    "```"
   ]
  },
  {
   "cell_type": "code",
   "execution_count": null,
   "metadata": {},
   "outputs": [],
   "source": [
    "X = people_np_array_4d  # sujeitos(40) * fotos(9) * x(92) * y(112)\n",
    "y = people_labels       # [0, 0, 1, 1]\n",
    "from sklearn.neighbors import KNeighborsClassifier\n",
    "neigh = KNeighborsClassifier(n_neighbors=3)\n",
    "neigh.fit(X, y) "
   ]
  },
  {
   "cell_type": "code",
   "execution_count": null,
   "metadata": {},
   "outputs": [],
   "source": [
    "print(\"img.shape\", img.shape)\n",
    "print(\"f.shape\", f.shape)"
   ]
  },
  {
   "cell_type": "code",
   "execution_count": null,
   "metadata": {},
   "outputs": [],
   "source": []
  }
 ],
 "metadata": {
  "kernelspec": {
   "display_name": "Python 3",
   "language": "python",
   "name": "python3"
  },
  "language_info": {
   "codemirror_mode": {
    "name": "ipython",
    "version": 3
   },
   "file_extension": ".py",
   "mimetype": "text/x-python",
   "name": "python",
   "nbconvert_exporter": "python",
   "pygments_lexer": "ipython3",
   "version": "3.6.7"
  }
 },
 "nbformat": 4,
 "nbformat_minor": 2
}
