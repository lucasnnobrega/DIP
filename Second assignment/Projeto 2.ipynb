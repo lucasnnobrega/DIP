{
 "cells": [
  {
   "cell_type": "code",
   "execution_count": 1,
   "metadata": {},
   "outputs": [],
   "source": [
    "import numpy as np\n",
    "import matplotlib.pyplot as plt\n",
    "from PIL import Image\n",
    "import cv2\n",
    "import scipy.io.wavfile\n",
    "from scipy import fftpack\n",
    "import pydub\n",
    "from pydub.playback import play\n",
    "import math"
   ]
  },
  {
   "cell_type": "code",
   "execution_count": 19,
   "metadata": {},
   "outputs": [],
   "source": [
    "def dct1D(vector):\n",
    "    N = len(vector)\n",
    "    X = np.zeros(N)\n",
    "    Ak = math.sqrt(2.0/N)\n",
    "    for k in range(N):\n",
    "        print(k , \" | \", N, end=\"\\r\")\n",
    "        \n",
    "        if k == 0:\n",
    "            Ck = math.sqrt(1/2)\n",
    "        else:\n",
    "            Ck = 1\n",
    "            \n",
    "        somatorio = 0\n",
    "        for n in range(N):\n",
    "            \n",
    "            q = 2.0 * math.pi * k * n\n",
    "            w = k * math.pi\n",
    "            twoN = 2.0 * N\n",
    "            \n",
    "            \n",
    "            somatorio += vector[n] * math.cos((q/twoN) + (w/twoN))\n",
    "            \n",
    "            #sum += vector[n] * math.cos(((2*math.pi*k*n)/2*N)+((k*math.pi)/2*N))\n",
    "        X[k] = Ak * Ck * somatorio\n",
    "\n",
    "    return X"
   ]
  },
  {
   "cell_type": "code",
   "execution_count": 20,
   "metadata": {},
   "outputs": [],
   "source": [
    "# CalculaIDCT"
   ]
  },
  {
   "cell_type": "code",
   "execution_count": 21,
   "metadata": {},
   "outputs": [],
   "source": [
    "def idct1D(X):\n",
    "\n",
    "    N = len(X)\n",
    "    x = np.zeros(N)\n",
    "\n",
    "    Ak = math.sqrt(2.0/N)\n",
    "    \n",
    "    for n in range(N):\n",
    "        print(n , \" | \", N)\n",
    "        somatorio = 0\n",
    "        for k in range(N):\n",
    "            \n",
    "            q = 2.0 * math.pi * k * n\n",
    "            w = k * math.pi\n",
    "            twoN = 2.0 * N\n",
    "            \n",
    "            \n",
    "            if k == 0:\n",
    "                Ck = math.sqrt(1.0/2.0)\n",
    "            else:\n",
    "                Ck = 1.0\n",
    "            \n",
    "            somatorio += Ck * X[k] * math.cos((q/twoN)+(w/twoN))\n",
    "            \n",
    "            \n",
    "        x[n] = Ak * somatorio\n",
    "\n",
    "    return x"
   ]
  },
  {
   "cell_type": "markdown",
   "metadata": {},
   "source": [
    "# Função para plotagem do gráfico com a DCT Filtrada"
   ]
  },
  {
   "cell_type": "code",
   "execution_count": 22,
   "metadata": {},
   "outputs": [],
   "source": [
    "def plotaDCTs(dct, dctFiltrada):\n",
    "    plt.figure('Domínio da Frequência')\n",
    "    plt.subplot(211)\n",
    "    plt.plot(dct, linewidth=0.1, alpha=1.0, color='blue')\n",
    "    plt.ylabel('Frequencia')\n",
    "    plt.subplot(212)\n",
    "    plt.plot(dctFiltrada, linewidth=0.1, alpha=1.0, color='blue')\n",
    "    plt.ylabel('Frequencia')\n",
    "    plt.show()"
   ]
  },
  {
   "cell_type": "code",
   "execution_count": 23,
   "metadata": {},
   "outputs": [],
   "source": [
    "def desenhaGrafico(nomeArquivo, data):\n",
    "    plt.figure(nomeArquivo)\n",
    "    plt.title(nomeArquivo)\n",
    "    plt.plot(data, linewidth=0.1, alpha=1, color='red')\n",
    "    plt.ylabel('Amplitude')\n",
    "    plt.xlabel('Frequencia')\n",
    "    plt.show()"
   ]
  },
  {
   "cell_type": "markdown",
   "metadata": {},
   "source": [
    "# Testes com DCT"
   ]
  },
  {
   "cell_type": "code",
   "execution_count": 24,
   "metadata": {},
   "outputs": [
    {
     "name": "stdout",
     "output_type": "stream",
     "text": [
      "0  |  8\n",
      "1  |  8\n",
      "2  |  8\n",
      "3  |  8\n",
      "4  |  8\n",
      "5  |  8\n",
      "6  |  8\n",
      "7  |  8\n",
      "M:  [11.52544031  5.92860134  2.15160745  0.4693178  -0.54411923  0.9595444\n",
      "  3.68816887  4.10571031]\n",
      "C:  [11.52544031  5.92860134  2.15160745  0.4693178  -0.54411923  0.9595444\n",
      "  3.68816887  4.10571031]\n"
     ]
    }
   ],
   "source": [
    "x_slide = []\n",
    "\n",
    "X_slide = [10, 5, 8.5, 2, 1, 1.5, 0, 0.1]\n",
    "\n",
    "x_slide = idct1D(X_slide)\n",
    "x_slide_pack = fftpack.idct(X_slide, norm='ortho')\n",
    "\n",
    "print(\"M: \", x_slide)\n",
    "print(\"C: \", x_slide_pack)"
   ]
  },
  {
   "cell_type": "code",
   "execution_count": 25,
   "metadata": {},
   "outputs": [
    {
     "name": "stdout",
     "output_type": "stream",
     "text": [
      "0  |  8\r",
      "1  |  8\r",
      "2  |  8\r",
      "3  |  8\r",
      "4  |  8\r",
      "5  |  8\r",
      "6  |  8\r",
      "7  |  8\r"
     ]
    },
    {
     "data": {
      "text/plain": [
       "array([ 1.00000000e+01,  5.00000000e+00,  8.50000000e+00,  2.00000000e+00,\n",
       "        1.00000000e+00,  1.50000000e+00, -1.44328993e-15,  1.00000000e-01])"
      ]
     },
     "execution_count": 25,
     "metadata": {},
     "output_type": "execute_result"
    }
   ],
   "source": [
    "X_DCT = dct1D(x_slide)\n",
    "X_DCT"
   ]
  },
  {
   "cell_type": "code",
   "execution_count": 26,
   "metadata": {},
   "outputs": [
    {
     "data": {
      "text/plain": [
       "array([ 1.00000000e+01,  5.00000000e+00,  8.50000000e+00,  2.00000000e+00,\n",
       "        1.00000000e+00,  1.50000000e+00, -1.77635684e-15,  1.00000000e-01])"
      ]
     },
     "execution_count": 26,
     "metadata": {},
     "output_type": "execute_result"
    }
   ],
   "source": [
    "X_DCT_pack = fftpack.dct(x_slide, norm=\"ortho\")\n",
    "X_DCT_pack"
   ]
  },
  {
   "cell_type": "code",
   "execution_count": 27,
   "metadata": {},
   "outputs": [
    {
     "data": {
      "text/plain": [
       "array([False, False,  True, False, False, False, False, False])"
      ]
     },
     "execution_count": 27,
     "metadata": {},
     "output_type": "execute_result"
    }
   ],
   "source": [
    "X_DCT == X_DCT_pack"
   ]
  },
  {
   "cell_type": "code",
   "execution_count": null,
   "metadata": {},
   "outputs": [],
   "source": []
  },
  {
   "cell_type": "code",
   "execution_count": null,
   "metadata": {},
   "outputs": [],
   "source": []
  },
  {
   "cell_type": "code",
   "execution_count": null,
   "metadata": {},
   "outputs": [],
   "source": []
  },
  {
   "cell_type": "code",
   "execution_count": null,
   "metadata": {},
   "outputs": [],
   "source": []
  },
  {
   "cell_type": "code",
   "execution_count": null,
   "metadata": {},
   "outputs": [],
   "source": []
  },
  {
   "cell_type": "markdown",
   "metadata": {},
   "source": [
    "# DCTAudio"
   ]
  },
  {
   "cell_type": "code",
   "execution_count": 28,
   "metadata": {},
   "outputs": [
    {
     "name": "stderr",
     "output_type": "stream",
     "text": [
      "/home/lucasnn/.local/lib/python3.6/site-packages/scipy/io/wavfile.py:273: WavFileWarning: Chunk (non-data) not understood, skipping it.\n",
      "  WavFileWarning)\n"
     ]
    },
    {
     "data": {
      "image/png": "[encoded data removed]",
      "text/plain": [
       "<Figure size 432x288 with 1 Axes>"
      ]
     },
     "metadata": {
      "needs_background": "light"
     },
     "output_type": "display_data"
    }
   ],
   "source": [
    "rate, audioData = scipy.io.wavfile.read(\"MaisUmaSemana.wav\")\n",
    "desenhaGrafico(\"Mais Uma Semana\", audioData)"
   ]
  },
  {
   "cell_type": "code",
   "execution_count": null,
   "metadata": {},
   "outputs": [],
   "source": [
    "DCT = dct1D(audioData)\n",
    "\n",
    "#DCT = fftpack.dct(audioData, norm = 'ortho') #Calcula a Transformada Discreta"
   ]
  },
  {
   "cell_type": "code",
   "execution_count": 78,
   "metadata": {},
   "outputs": [],
   "source": [
    "#print (DCT)\n",
    "dctFiltrada = DCT.copy()\n",
    "# print (dctFiltrada)"
   ]
  },
  {
   "cell_type": "code",
   "execution_count": 79,
   "metadata": {},
   "outputs": [],
   "source": [
    "listaComDCT = dctFiltrada.tolist() #Cria uma lista com os valores resultantes da Transformada Discreta\n",
    "#print(listaComDCT)\n",
    "Indices = []\n",
    "\n",
    "#Percorre todo o array e troca os valores pelo seu módulo\n",
    "for i in range(0, len(listaComDCT)):\n",
    "    listaComDCT[i] = abs(listaComDCT[i])\n",
    "    aux = listaComDCT.copy()\n",
    "\n",
    "#print(listaComDCT)"
   ]
  },
  {
   "cell_type": "code",
   "execution_count": 80,
   "metadata": {},
   "outputs": [
    {
     "name": "stdout",
     "output_type": "stream",
     "text": [
      "Digite o numero de frequencias desejadas: 50\n"
     ]
    }
   ],
   "source": [
    "numero_de_frequencias_desejadas = int(input(\"Digite o numero de frequencias desejadas: \"))"
   ]
  },
  {
   "cell_type": "code",
   "execution_count": 81,
   "metadata": {},
   "outputs": [
    {
     "name": "stdout",
     "output_type": "stream",
     "text": [
      "[1363, 1357, 1359, 1347, 1365, 1362, 455, 447, 454, 1373, 1375, 1349, 383, 1393, 1364, 1355, 1432, 379, 1330, 1320, 382, 1367, 462, 452, 460, 591, 459, 1326, 1377, 1322, 1332, 703, 1338, 393, 1398, 1336, 1104, 1372, 340, 596, 1380, 1340, 1321, 363, 1383, 588, 881, 1317, 1436, 1073]\n"
     ]
    }
   ],
   "source": [
    "#Adiciona na lista os n índices de maior valor, com n = numero de amostras\n",
    "for i in range(0,numero_de_frequencias_desejadas):\n",
    "    Indices.append(listaComDCT.index(max(aux)))\n",
    "    indiceAux = aux.index(max(aux))\n",
    "    aux.pop(indiceAux)\n",
    "\n",
    "    # dctFiltrada = DCT.copy()\n",
    "\n",
    "print(Indices)"
   ]
  },
  {
   "cell_type": "code",
   "execution_count": 84,
   "metadata": {},
   "outputs": [
    {
     "ename": "NameError",
     "evalue": "name 'Indices' is not defined",
     "output_type": "error",
     "traceback": [
      "\u001b[0;31m---------------------------------------------------------------------------\u001b[0m",
      "\u001b[0;31mNameError\u001b[0m                                 Traceback (most recent call last)",
      "\u001b[0;32m<ipython-input-84-8e292f9d4225>\u001b[0m in \u001b[0;36m<module>\u001b[0;34m\u001b[0m\n\u001b[1;32m      1\u001b[0m \u001b[0;31m#Preserva os DCT's de tamanho igual aos da lista de IndiceMaximo verificando se eles estão na lista e zera os demais\u001b[0m\u001b[0;34m\u001b[0m\u001b[0;34m\u001b[0m\u001b[0;34m\u001b[0m\u001b[0m\n\u001b[1;32m      2\u001b[0m \u001b[0;32mfor\u001b[0m \u001b[0mi\u001b[0m \u001b[0;32min\u001b[0m \u001b[0mrange\u001b[0m\u001b[0;34m(\u001b[0m\u001b[0;36m0\u001b[0m\u001b[0;34m,\u001b[0m \u001b[0mlen\u001b[0m\u001b[0;34m(\u001b[0m\u001b[0mdctFiltrada\u001b[0m\u001b[0;34m)\u001b[0m\u001b[0;34m)\u001b[0m\u001b[0;34m:\u001b[0m\u001b[0;34m\u001b[0m\u001b[0;34m\u001b[0m\u001b[0m\n\u001b[0;32m----> 3\u001b[0;31m     \u001b[0;32mif\u001b[0m \u001b[0mi\u001b[0m \u001b[0;32mnot\u001b[0m \u001b[0;32min\u001b[0m \u001b[0mIndices\u001b[0m\u001b[0;34m:\u001b[0m\u001b[0;34m\u001b[0m\u001b[0;34m\u001b[0m\u001b[0m\n\u001b[0m\u001b[1;32m      4\u001b[0m         \u001b[0mdctFiltrada\u001b[0m\u001b[0;34m[\u001b[0m\u001b[0mi\u001b[0m\u001b[0;34m]\u001b[0m \u001b[0;34m=\u001b[0m \u001b[0;36m0\u001b[0m\u001b[0;34m\u001b[0m\u001b[0;34m\u001b[0m\u001b[0m\n\u001b[1;32m      5\u001b[0m \u001b[0;34m\u001b[0m\u001b[0m\n",
      "\u001b[0;31mNameError\u001b[0m: name 'Indices' is not defined"
     ]
    }
   ],
   "source": [
    "#Preserva os DCT's de tamanho igual aos da lista de IndiceMaximo verificando se eles estão na lista e zera os demais\n",
    "for i in range(0, len(dctFiltrada)):\n",
    "    if i not in Indices:\n",
    "        dctFiltrada[i] = 0\n",
    "\n",
    "dctFiltrada = np.asarray(dctFiltrada)\n",
    "\n",
    "AudioTransformado = fftpack.idct(DCT, norm = 'ortho')\n",
    "AudioTransformado = AudioTransformado.astype(\"int16\")\n",
    "scipy.io.wavfile.write(\"audioTransformado.wav\", rate, AudioTransformado)\n",
    "\n",
    "AudioTransformadoImportantes = fftpack.idct(dctFiltrada, norm = 'ortho')\n",
    "AudioTransformadoImportantes = AudioTransformadoImportantes.astype(\"int16\")\n",
    "scipy.io.wavfile.write(\"AudioTransformadoImportantes.wav\", rate, AudioTransformadoImportantes)\n",
    "\n",
    "plotaDCTs(DCT, dctFiltrada)"
   ]
  },
  {
   "cell_type": "code",
   "execution_count": 85,
   "metadata": {},
   "outputs": [
    {
     "ename": "NameError",
     "evalue": "name 'Indices' is not defined",
     "output_type": "error",
     "traceback": [
      "\u001b[0;31m---------------------------------------------------------------------------\u001b[0m",
      "\u001b[0;31mNameError\u001b[0m                                 Traceback (most recent call last)",
      "\u001b[0;32m<ipython-input-85-cffdba4c007a>\u001b[0m in \u001b[0;36m<module>\u001b[0;34m\u001b[0m\n\u001b[0;32m----> 1\u001b[0;31m \u001b[0;32mdel\u001b[0m\u001b[0;34m(\u001b[0m\u001b[0mIndices\u001b[0m\u001b[0;34m)\u001b[0m\u001b[0;34m\u001b[0m\u001b[0;34m\u001b[0m\u001b[0m\n\u001b[0m",
      "\u001b[0;31mNameError\u001b[0m: name 'Indices' is not defined"
     ]
    }
   ],
   "source": [
    "del(Indices)"
   ]
  },
  {
   "cell_type": "code",
   "execution_count": null,
   "metadata": {},
   "outputs": [],
   "source": []
  },
  {
   "cell_type": "code",
   "execution_count": null,
   "metadata": {},
   "outputs": [],
   "source": []
  }
 ],
 "metadata": {
  "kernelspec": {
   "display_name": "Python 3",
   "language": "python",
   "name": "python3"
  },
  "language_info": {
   "codemirror_mode": {
    "name": "ipython",
    "version": 3
   },
   "file_extension": ".py",
   "mimetype": "text/x-python",
   "name": "python",
   "nbconvert_exporter": "python",
   "pygments_lexer": "ipython3",
   "version": "3.6.8"
  }
 },
 "nbformat": 4,
 "nbformat_minor": 2
}
