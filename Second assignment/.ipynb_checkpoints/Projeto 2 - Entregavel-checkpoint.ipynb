{
 "cells": [
  {
   "cell_type": "markdown",
   "metadata": {},
   "source": [
    "# Módulo 2 do Trabalho Prático"
   ]
  },
  {
   "cell_type": "markdown",
   "metadata": {},
   "source": [
    "Neste trabalho, a DCT (direta e inversa) deve ser desenvolvida utilizando as equações estudadas em sala de aula, sem o uso de bibliotecas prontas para este fim. \n",
    "\n",
    "1 Dado um sinal de áudio s com N amostras, desenvolva uma aplicação para:\n",
    "\n",
    " a) Exibir a DCT de s e o valor do nível DC;\n",
    "\n",
    "b) Encontrar uma aproximação ? de s obtida preservando os n (parâmetro inteiro no intervalo [0, N-1]) coeficientes AC (da DCT) mais importantes de s e zerando os demais coeficientes AC. Para audição, o sinal resultante deve ser multiplicado por uma constante c tal que (volume de ?) = (volume de s)\n",
    "\n",
    "2 Dada uma imagem I de dimensões RxC, desenvolva uma aplicação para:\n",
    "\n",
    "a) Exibir a DCT de s, sem o nível DC, e o valor do nível DC;\n",
    "\n",
    "b) Encontrar e exibir uma aproximação de I obtida preservando os n coeficientes AC (da DCT) mais importantes de I e zerando os demais. O parâmetro n é um inteiro no intervalo [0, RxC-1].\n",
    "\n",
    "3 Desenvolva um compactador/expansor de frequências para sinais de áudio, em que Xt[round(k*c)] = X[k], c real, c > 0. A dimensão do vetor Xt deve ser igual à do vetor X.\n"
   ]
  },
  {
   "cell_type": "code",
   "execution_count": 1,
   "metadata": {},
   "outputs": [],
   "source": [
    "#%matplotlib notebook\n",
    "%matplotlib inline"
   ]
  },
  {
   "cell_type": "code",
   "execution_count": 2,
   "metadata": {},
   "outputs": [],
   "source": [
    "import numpy as np\n",
    "import matplotlib.pyplot as plt\n",
    "from PIL import Image\n",
    "import cv2\n",
    "import scipy.io.wavfile\n",
    "from scipy import fftpack\n",
    "import pydub\n",
    "from pydub.playback import play\n",
    "import math"
   ]
  },
  {
   "cell_type": "markdown",
   "metadata": {},
   "source": [
    "# Calcula DCT 1D"
   ]
  },
  {
   "cell_type": "code",
   "execution_count": 45,
   "metadata": {},
   "outputs": [],
   "source": [
    "def dct1D(vector):\n",
    "    N = len(vector)\n",
    "    X = np.zeros(N)\n",
    "    Ak = math.sqrt(2.0/N)\n",
    "    for k in range(N):\n",
    "        print(k + 1, \" | \", N , end=\"\\r\")\n",
    "        \n",
    "        if k == 0:\n",
    "            Ck = math.sqrt(1/2)\n",
    "        else:\n",
    "            Ck = 1\n",
    "            \n",
    "        somatorio = 0\n",
    "        for n in range(N):\n",
    "            \n",
    "            q = 2.0 * math.pi * k * n\n",
    "            w = k * math.pi\n",
    "            twoN = 2.0 * N\n",
    "            \n",
    "            \n",
    "            somatorio += vector[n] * math.cos((q/twoN) + (w/twoN))\n",
    "            \n",
    "            #sum += vector[n] * math.cos(((2*math.pi*k*n)/2*N)+((k*math.pi)/2*N))\n",
    "        X[k] = Ak * Ck * somatorio\n",
    "\n",
    "    return X"
   ]
  },
  {
   "cell_type": "markdown",
   "metadata": {},
   "source": [
    "# Calcula IDCT"
   ]
  },
  {
   "cell_type": "code",
   "execution_count": 46,
   "metadata": {},
   "outputs": [],
   "source": [
    "def idct1D(X):\n",
    "\n",
    "    N = len(X)\n",
    "    x = np.zeros(N)\n",
    "\n",
    "    Ak = math.sqrt(2.0/N)\n",
    "    \n",
    "    for n in range(N):\n",
    "        print(n + 1 , \" | \", N, end=\"\\r\")\n",
    "        somatorio = 0\n",
    "        for k in range(N):\n",
    "            \n",
    "            q = 2.0 * math.pi * k * n\n",
    "            w = k * math.pi\n",
    "            twoN = 2.0 * N\n",
    "            \n",
    "            \n",
    "            if k == 0:\n",
    "                Ck = math.sqrt(1.0/2.0)\n",
    "            else:\n",
    "                Ck = 1.0\n",
    "            \n",
    "            somatorio += Ck * X[k] * math.cos((q/twoN)+(w/twoN))\n",
    "            \n",
    "            \n",
    "        x[n] = Ak * somatorio\n",
    "\n",
    "    return x"
   ]
  },
  {
   "cell_type": "code",
   "execution_count": 47,
   "metadata": {},
   "outputs": [],
   "source": [
    "# Calcula DCT 2D"
   ]
  },
  {
   "cell_type": "code",
   "execution_count": 6,
   "metadata": {},
   "outputs": [],
   "source": [
    "def dct2d(imagem):\n",
    "    # Criando A imagem no dominio da frequencia\n",
    "    ImagemDCT = np.zeros(imagem.shape)\n",
    "\n",
    "    # Aplicando DCT Verticalmente nas linhas\n",
    "    for i, linha in enumerate(imagem):\n",
    "        ImagemDCT[i] = dct1D(linha)\n",
    "\n",
    "    ImagemDCT_Trans = ImagemDCT.T\n",
    "\n",
    "    # Aplicando DCT Verticalmente nas Colunas\n",
    "    for i, linha in enumerate(ImagemDCT_Trans):\n",
    "        ImagemDCT_Trans[i] = dct1D(linha)\n",
    "\n",
    "    \n",
    "    # Necessario retornar a transposta\n",
    "    return ImagemDCT_Trans.T"
   ]
  },
  {
   "cell_type": "code",
   "execution_count": 7,
   "metadata": {},
   "outputs": [],
   "source": [
    "# Calcula IDCT 2d"
   ]
  },
  {
   "cell_type": "code",
   "execution_count": 8,
   "metadata": {},
   "outputs": [],
   "source": [
    "def idct2d(imagem):\n",
    "    # Aplicando IDCT Verticalmente nas linhas\n",
    "    imagemIDCT = np.zeros(imagem.shape)\n",
    "    for i, linha in enumerate(imagem):\n",
    "        #print(i)\n",
    "        imagemIDCT[i] = idct1D(linha)\n",
    "        #imagemIDCT[i] = fftpack.idct(linha)\n",
    "\n",
    "    imagemIDCT_Trans = imagemIDCT.T\n",
    "\n",
    "    # Aplicando DCT Verticalmente nas Colunas\n",
    "    for i, linha in enumerate(imagemIDCT_Trans):\n",
    "        #print(i)\n",
    "        imagemIDCT_Trans[i] = idct1D(linha)\n",
    "        #imagemIDCT_Trans[i] = fftpack.idct(linha)\n",
    "\n",
    "    return imagemIDCT_Trans.T"
   ]
  },
  {
   "cell_type": "markdown",
   "metadata": {},
   "source": [
    "# Compactador/Expansor"
   ]
  },
  {
   "cell_type": "code",
   "execution_count": 9,
   "metadata": {},
   "outputs": [],
   "source": [
    "def Compactador(X,c):\n",
    "    K = len(X)\n",
    "    for i in range(K):\n",
    "        #Se a posição nao existir \n",
    "        if(round(i*c) >= K): # multiplica pela constante c\n",
    "            X[i] = 0.0;\n",
    "        else:\n",
    "            X[i] = X[round(i*c)];\n",
    "            \n",
    "    return X"
   ]
  },
  {
   "cell_type": "markdown",
   "metadata": {},
   "source": [
    "# Função para plotagem do gráfico com a DCT Filtrada"
   ]
  },
  {
   "cell_type": "code",
   "execution_count": 10,
   "metadata": {},
   "outputs": [],
   "source": [
    "def plotaDCTs(dct1, dct2):\n",
    "\n",
    "    f, (ax1, ax2) = plt.subplots(2, 1, sharex=True)\n",
    "    ax1.plot(dct1, linewidth=0.1, alpha=1.0, color='blue')\n",
    "  \n",
    "    ax2.plot(dct2, linewidth=0.1, alpha=1.0, color='blue')\n",
    "    plt.show()"
   ]
  },
  {
   "cell_type": "code",
   "execution_count": 11,
   "metadata": {},
   "outputs": [],
   "source": [
    "def desenhaGrafico(nomeArquivo, data):\n",
    "    plt.figure(nomeArquivo, figsize=(20,6))\n",
    "    plt.title(nomeArquivo)\n",
    "    plt.plot(data, linewidth=0.1, alpha=1, color='red')\n",
    "    plt.ylabel('Amplitude')\n",
    "    plt.xlabel('Dados')\n",
    "    plt.show()"
   ]
  },
  {
   "cell_type": "markdown",
   "metadata": {},
   "source": [
    "# Testes com DCT e IDCT"
   ]
  },
  {
   "cell_type": "code",
   "execution_count": 18,
   "metadata": {},
   "outputs": [
    {
     "name": "stdout",
     "output_type": "stream",
     "text": [
      "1  |  8           \r",
      "2  |  8           \r",
      "3  |  8           \r",
      "4  |  8           \r",
      "5  |  8           \r",
      "6  |  8           \r",
      "7  |  8           \r",
      "8  |  8           \r"
     ]
    }
   ],
   "source": [
    "x_slide = []\n",
    "\n",
    "X_slide = [10, 5, 8.5, 2, 1, 1.5, 0, 0.1]\n",
    "\n",
    "x_slide = idct1D(X_slide)\n",
    "x_slide_pack = fftpack.idct(X_slide, norm='ortho')"
   ]
  },
  {
   "cell_type": "code",
   "execution_count": 19,
   "metadata": {},
   "outputs": [
    {
     "name": "stdout",
     "output_type": "stream",
     "text": [
      "M:  [11.52544031  5.92860134  2.15160745  0.4693178  -0.54411923  0.9595444\n",
      "  3.68816887  4.10571031]\n",
      "C:  [11.52544031  5.92860134  2.15160745  0.4693178  -0.54411923  0.9595444\n",
      "  3.68816887  4.10571031]\n",
      "[False False False False  True False False False]\n"
     ]
    }
   ],
   "source": [
    "print(\"M: \", x_slide)\n",
    "print(\"C: \", x_slide_pack)\n",
    "print(x_slide == x_slide_pack)"
   ]
  },
  {
   "cell_type": "code",
   "execution_count": 20,
   "metadata": {},
   "outputs": [
    {
     "name": "stdout",
     "output_type": "stream",
     "text": [
      "1  |  8           \r",
      "2  |  8           \r",
      "3  |  8           \r",
      "4  |  8           \r",
      "5  |  8           \r",
      "6  |  8           \r",
      "7  |  8           \r",
      "8  |  8           \r"
     ]
    },
    {
     "data": {
      "text/plain": [
       "array([ 1.00000000e+01,  5.00000000e+00,  8.50000000e+00,  2.00000000e+00,\n",
       "        1.00000000e+00,  1.50000000e+00, -1.44328993e-15,  1.00000000e-01])"
      ]
     },
     "execution_count": 20,
     "metadata": {},
     "output_type": "execute_result"
    }
   ],
   "source": [
    "X_DCT = dct1D(x_slide)\n",
    "X_DCT"
   ]
  },
  {
   "cell_type": "code",
   "execution_count": 21,
   "metadata": {},
   "outputs": [
    {
     "data": {
      "text/plain": [
       "array([ 1.00000000e+01,  5.00000000e+00,  8.50000000e+00,  2.00000000e+00,\n",
       "        1.00000000e+00,  1.50000000e+00, -1.77635684e-15,  1.00000000e-01])"
      ]
     },
     "execution_count": 21,
     "metadata": {},
     "output_type": "execute_result"
    }
   ],
   "source": [
    "X_DCT_pack = fftpack.dct(x_slide, norm=\"ortho\")\n",
    "X_DCT_pack"
   ]
  },
  {
   "cell_type": "code",
   "execution_count": 22,
   "metadata": {},
   "outputs": [
    {
     "data": {
      "text/plain": [
       "array([False, False,  True, False, False, False, False, False])"
      ]
     },
     "execution_count": 22,
     "metadata": {},
     "output_type": "execute_result"
    }
   ],
   "source": [
    "X_DCT == X_DCT_pack"
   ]
  },
  {
   "cell_type": "markdown",
   "metadata": {},
   "source": [
    "# DCTAudio"
   ]
  },
  {
   "cell_type": "code",
   "execution_count": 17,
   "metadata": {},
   "outputs": [
    {
     "name": "stderr",
     "output_type": "stream",
     "text": [
      "/home/lucasnn/.local/lib/python3.6/site-packages/scipy/io/wavfile.py:273: WavFileWarning: Chunk (non-data) not understood, skipping it.\n",
      "  WavFileWarning)\n"
     ]
    },
    {
     "data": {
      "image/png": "[encoded data removed]",
      "text/plain": [
       "<Figure size 1440x432 with 1 Axes>"
      ]
     },
     "metadata": {
      "needs_background": "light"
     },
     "output_type": "display_data"
    }
   ],
   "source": [
    "rate, audioData = scipy.io.wavfile.read(\"MaisUmaSemana.wav\")\n",
    "desenhaGrafico(\"Mais Uma Semana\", audioData)"
   ]
  },
  {
   "cell_type": "code",
   "execution_count": 23,
   "metadata": {},
   "outputs": [
    {
     "data": {
      "text/plain": [
       "45498"
      ]
     },
     "execution_count": 23,
     "metadata": {},
     "output_type": "execute_result"
    }
   ],
   "source": [
    "len(audioData)"
   ]
  },
  {
   "cell_type": "code",
   "execution_count": 37,
   "metadata": {},
   "outputs": [
    {
     "name": "stdout",
     "output_type": "stream",
     "text": [
      "Digite o tamanho de dados a ser tratado: MAX=45498 :6000\n",
      "6000\n"
     ]
    }
   ],
   "source": [
    "prompt = \"Digite o tamanho de dados a ser tratado: MAX=\" + str(len(audioData)) + \" :\" \n",
    "length = int(input(prompt))\n",
    "if(length > len(audioData)):\n",
    "    print(\"Valor inserido é maior que o limite\")\n",
    "    length = len(audioData)\n",
    "print(length)"
   ]
  },
  {
   "cell_type": "code",
   "execution_count": 38,
   "metadata": {},
   "outputs": [
    {
     "data": {
      "text/plain": [
       "6000"
      ]
     },
     "execution_count": 38,
     "metadata": {},
     "output_type": "execute_result"
    }
   ],
   "source": [
    "len(audioData)\n",
    "len(audioData[:length])"
   ]
  },
  {
   "cell_type": "code",
   "execution_count": 39,
   "metadata": {},
   "outputs": [
    {
     "name": "stdout",
     "output_type": "stream",
     "text": [
      "6000  |  6000                                           |  6000                      \r"
     ]
    }
   ],
   "source": [
    "DCT = dct1D(audioData[:length])\n",
    "\n",
    "#DCT = fftpack.dct(audioData, norm = 'ortho') #Calcula a Transformada Discreta"
   ]
  },
  {
   "cell_type": "code",
   "execution_count": 40,
   "metadata": {},
   "outputs": [],
   "source": [
    "#print (DCT)\n",
    "dctFiltrada = DCT.copy()\n",
    "# print (dctFiltrada)"
   ]
  },
  {
   "cell_type": "code",
   "execution_count": 41,
   "metadata": {},
   "outputs": [],
   "source": [
    "listaComDCT = dctFiltrada.tolist() #Cria uma lista com os valores resultantes da Transformada Discreta\n",
    "#print(listaComDCT)\n",
    "Indices = []\n",
    "\n",
    "#Percorre todo o array e troca os valores pelo seu módulo\n",
    "for i in range(0, len(listaComDCT)):\n",
    "    listaComDCT[i] = abs(listaComDCT[i])\n",
    "    aux = listaComDCT.copy()\n",
    "\n",
    "#print(listaComDCT)"
   ]
  },
  {
   "cell_type": "code",
   "execution_count": 42,
   "metadata": {},
   "outputs": [
    {
     "name": "stdout",
     "output_type": "stream",
     "text": [
      "Digite o numero de frequencias desejadas: 1000\n"
     ]
    }
   ],
   "source": [
    "numero_de_frequencias_desejadas = int(input(\"Digite o numero de frequencias desejadas: \"))"
   ]
  },
  {
   "cell_type": "code",
   "execution_count": 43,
   "metadata": {},
   "outputs": [
    {
     "name": "stdout",
     "output_type": "stream",
     "text": [
      "[179, 175, 79, 178, 180, 211, 190, 78, 184, 183, 174, 176, 207, 158, 192, 172, 140, 165, 322, 214, 244, 209, 77, 331, 185, 333, 203, 139, 167, 169, 206, 327, 216, 205, 213, 170, 141, 324, 195, 380, 316, 199, 117, 189, 161, 40, 217, 150, 329, 45, 96, 155, 95, 319, 148, 387, 318, 138, 171, 313, 219, 197, 379, 87, 326, 153, 210, 182, 186, 377, 354, 196, 201, 388, 321, 325, 220, 94, 98, 194, 338, 85, 336, 371, 127, 373, 93, 142, 147, 83, 340, 90, 97, 44, 187, 146, 39, 241, 384, 335, 86, 229, 198, 133, 262, 88, 275, 193, 82, 232, 46, 212, 334, 228, 317, 328, 208, 118, 52, 365, 233, 361, 149, 269, 366, 177, 271, 252, 80, 157, 132, 50, 309, 312, 181, 42, 348, 151, 273, 152, 278, 393, 204, 200, 343, 285, 66, 126, 188, 320, 64, 350, 131, 308, 385, 237, 54, 51, 247, 234, 345, 114, 274, 304, 236, 123, 406, 358, 396, 128, 73, 315, 257, 53, 399, 258, 145, 223, 100, 267, 360, 168, 222, 55, 341, 266, 288, 99, 242, 38, 400, 407, 370, 119, 156, 68, 240, 224, 287, 249, 374, 238, 71, 137, 143, 402, 239, 381, 392, 382, 272, 279, 62, 265, 202, 120, 253, 56, 411, 359, 395, 221, 289, 337, 235, 355, 410, 412, 60, 356, 250, 58, 49, 36, 116, 357, 276, 57, 47, 159, 246, 376, 81, 351, 76, 163, 270, 332, 35, 92, 59, 394, 353, 409, 43, 352, 15, 245, 34, 403, 386, 444, 368, 162, 0, 230, 342, 430, 299, 346, 113, 305, 330, 295, 16, 344, 121, 259, 32, 415, 297, 294, 243, 154, 61, 440, 227, 125, 226, 283, 435, 439, 28, 431, 112, 291, 30, 445, 405, 41, 443, 378, 48, 256, 672, 302, 438, 429, 427, 414, 426, 432, 746, 684, 718, 367, 191, 652, 398, 362, 111, 456, 20, 307, 160, 389, 306, 69, 383, 419, 33, 282, 433, 705, 446, 375, 26, 420, 339, 144, 476, 101, 29, 907, 74, 281, 22, 457, 173, 715, 292, 290, 935, 425, 695, 716, 12, 441, 451, 447, 542, 724, 8, 466, 89, 323, 225, 109, 534, 704, 921, 434, 484, 963, 933, 63, 391, 905, 423, 703, 397, 70, 260, 421, 950, 1032, 674, 497, 24, 948, 641, 1, 694, 130, 708, 908, 14, 496, 31, 502, 485, 686, 728, 654, 13, 467, 134, 895, 727, 927, 541, 890, 102, 11, 1013, 18, 494, 1058, 910, 5, 293, 91, 897, 477, 642, 72, 437, 1045, 166, 904, 551, 277, 436, 465, 942, 706, 732, 215, 103, 919, 914, 347, 311, 664, 733, 518, 522, 627, 693, 717, 881, 10, 37, 523, 65, 892, 946, 300, 27, 988, 84, 682, 702, 962, 363, 621, 122, 493, 626, 1059, 369, 753, 218, 979, 521, 424, 978, 417, 696, 310, 878, 416, 893, 1033, 900, 1021, 788, 984, 280, 668, 956, 254, 723, 6, 965, 298, 9, 576, 971, 390, 789, 940, 1014, 231, 885, 663, 251, 413, 879, 526, 969, 688, 877, 882, 634, 505, 401, 1029, 909, 422, 638, 661, 928, 799, 687, 730, 991, 937, 999, 757, 805, 110, 442, 926, 510, 700, 804, 889, 763, 1015, 487, 464, 533, 691, 880, 1000, 675, 450, 986, 452, 511, 261, 711, 1002, 404, 538, 1020, 561, 912, 735, 124, 264, 544, 527, 692, 974, 923, 665, 671, 1143, 1026, 944, 1056, 725, 762, 475, 976, 1142, 268, 17, 486, 129, 612, 520, 707, 1008, 813, 458, 474, 925, 748, 714, 1070, 747, 461, 553, 115, 918, 1090, 752, 25, 731, 539, 479, 699, 673, 108, 742, 738, 550, 722, 951, 482, 1162, 744, 509, 659, 769, 992, 645, 1047, 1044, 734, 455, 501, 528, 929, 23, 473, 775, 736, 1004, 472, 875, 712, 489, 637, 829, 2, 601, 1065, 898, 1061, 557, 662, 1034, 660, 1028, 726, 710, 7, 884, 743, 759, 531, 1161, 508, 1027, 669, 739, 364, 666, 987, 786, 537, 1144, 973, 567, 560, 500, 582, 996, 1091, 449, 643, 1163, 498, 284, 719, 105, 656, 586, 1043, 1141, 815, 620, 463, 903, 448, 1152, 797, 975, 886, 107, 798, 1086, 1113, 580, 1009, 164, 547, 478, 1022, 488, 766, 997, 609, 709, 698, 506, 816, 4, 460, 1153, 622, 1063, 640, 820, 1155, 1016, 491, 873, 21, 495, 516, 811, 263, 301, 737, 599, 1096, 1164, 961, 1074, 1073, 584, 848, 790, 454, 1023, 981, 809, 806, 530, 680, 812, 1138, 943, 1040, 631, 1137, 883, 554, 651, 920, 894, 1005, 713, 1194, 1154, 745, 1160, 615, 1078, 655, 676, 777, 595, 689, 821, 3, 611, 614, 602, 911, 1053, 570, 503, 831, 932, 1148, 899, 428, 1094, 587, 1131, 1079, 1189, 1031, 1156, 1132, 1001, 590, 1149, 720, 1035, 1128, 490, 563, 760, 548, 771, 286, 1159, 1072, 959, 874, 1081, 556, 1195, 1006, 529, 524, 480, 632, 1184, 1193, 1104, 628, 985, 755, 791, 970, 835, 901, 954, 1105, 1117, 825, 1112, 1165, 837, 938, 577, 106, 1145, 1042, 1183, 629, 470, 1055, 758, 579, 847, 982, 767, 683, 1147, 630, 857, 1825, 750, 603, 826, 1127, 863, 1092, 623, 1057, 1188, 658, 104, 861, 1114, 598, 955, 636, 616, 1087, 721, 540, 552, 1182, 964, 887, 593, 471, 618, 469, 1826, 513, 1098, 588, 1060, 1129, 135, 1099, 792, 1088, 546, 780, 1190, 1049, 1130, 1039, 1011, 843, 1158, 649, 605, 1208, 1185, 1186, 989, 1209, 1824, 939, 504, 931, 1781, 136, 1146, 2360, 1134, 314, 867, 2349, 572, 1118, 2277, 690, 1199, 1041, 827, 1187, 1502, 568, 1151, 934, 913, 902, 1101, 519, 1166, 1200, 796, 667, 1062, 610, 817, 814, 864, 958, 1521, 1196, 453, 1213, 248, 2319, 756, 862, 1140, 793, 1017, 1782, 998, 836, 1135, 1214, 922, 492, 916, 2356, 514, 1501, 1068, 802, 2475, 2355, 2313, 581, 808, 583, 774, 794, 1210, 685, 2513, 2272, 678, 1109, 569, 801, 1080, 1177, 896, 677, 924, 1102, 1221, 1197, 936, 765, 1222, 870, 1771, 1038, 1212, 1207, 19]\n"
     ]
    }
   ],
   "source": [
    "#Adiciona na lista os n índices de maior valor, com n = numero de amostras\n",
    "for i in range(0,numero_de_frequencias_desejadas):\n",
    "    Indices.append(listaComDCT.index(max(aux)))\n",
    "    indiceAux = aux.index(max(aux))\n",
    "    aux.pop(indiceAux)\n",
    "\n",
    "    # dctFiltrada = DCT.copy()\n",
    "\n",
    "print(Indices)"
   ]
  },
  {
   "cell_type": "code",
   "execution_count": 44,
   "metadata": {},
   "outputs": [
    {
     "name": "stdout",
     "output_type": "stream",
     "text": [
      "6000  |  6000                                                                                                    6000                                                                                                       |  6000                                                                                                                                                                                                                                                                                                                                                                                                                                                                                                    6000           6000             |  6000                                                                                                                                                                                                                                                                                                      |  6000             |  6000                               6000                                   |  6000            |  6000             |  6000                     \r"
     ]
    },
    {
     "data": {
      "image/png": "[encoded data removed]",
      "text/plain": [
       "<Figure size 432x288 with 2 Axes>"
      ]
     },
     "metadata": {
      "needs_background": "light"
     },
     "output_type": "display_data"
    }
   ],
   "source": [
    "#Preserva os DCT's de tamanho igual aos da lista de IndiceMaximo verificando se eles estão na lista e zera os demais\n",
    "for i in range(0, len(dctFiltrada)):\n",
    "    if i not in Indices:\n",
    "        dctFiltrada[i] = 0\n",
    "\n",
    "dctFiltrada = np.asarray(dctFiltrada)\n",
    "\n",
    "#AudioTransformado = fftpack.idct(DCT, norm = 'ortho')\n",
    "AudioTransformado = idct1D(DCT)\n",
    "AudioTransformado = AudioTransformado.astype(\"int16\")\n",
    "scipy.io.wavfile.write(\"audioTransformado.wav\", rate, AudioTransformado)\n",
    "\n",
    "#AudioTransformadoImportantes = fftpack.idct(dctFiltrada, norm = 'ortho')\n",
    "AudioTransformadoImportantes = idct1D(dctFiltrada)\n",
    "AudioTransformadoImportantes = AudioTransformadoImportantes.astype(\"int16\")\n",
    "scipy.io.wavfile.write(\"AudioTransformadoImportantes.wav\", rate, AudioTransformadoImportantes)\n",
    "\n",
    "plotaDCTs(DCT, dctFiltrada)"
   ]
  },
  {
   "cell_type": "code",
   "execution_count": 32,
   "metadata": {},
   "outputs": [
    {
     "data": {
      "text/plain": [
       "3000"
      ]
     },
     "execution_count": 32,
     "metadata": {},
     "output_type": "execute_result"
    }
   ],
   "source": [
    "len(DCT)"
   ]
  },
  {
   "cell_type": "code",
   "execution_count": 33,
   "metadata": {},
   "outputs": [],
   "source": [
    "dctCompactado = Compactador(DCT, 3)\n",
    "\n",
    "AudioTransformadoCompactado = fftpack.idct(dctCompactado, norm = 'ortho')\n",
    "#AudioTransformadoImportantes = idct1D(dctFiltrada)\n",
    "AudioTransformadoCompactado = AudioTransformadoCompactado.astype(\"int16\")\n",
    "scipy.io.wavfile.write(\"AudioTransformadoCompactado.wav\", rate, AudioTransformadoCompactado)"
   ]
  },
  {
   "cell_type": "code",
   "execution_count": 34,
   "metadata": {},
   "outputs": [
    {
     "data": {
      "image/png": "[encoded data removed]",
      "text/plain": [
       "<Figure size 432x288 with 2 Axes>"
      ]
     },
     "metadata": {
      "needs_background": "light"
     },
     "output_type": "display_data"
    }
   ],
   "source": [
    "plotaDCTs(DCT, dctCompactado)"
   ]
  },
  {
   "cell_type": "code",
   "execution_count": 35,
   "metadata": {},
   "outputs": [
    {
     "data": {
      "image/png": "[encoded data removed]",
      "text/plain": [
       "<Figure size 1440x432 with 1 Axes>"
      ]
     },
     "metadata": {
      "needs_background": "light"
     },
     "output_type": "display_data"
    }
   ],
   "source": [
    "DCT_filtered = DCT.copy()\n",
    "\n",
    "# Valores modulados\n",
    "for i in range(len(DCT)):\n",
    "    DCT_filtered[i] = abs(DCT[i])\n",
    "\n",
    "DCT_abs = DCT_filtered.copy()\n",
    "desenhaGrafico(\"DCT_filterd\", DCT_filtered)"
   ]
  },
  {
   "cell_type": "code",
   "execution_count": 36,
   "metadata": {},
   "outputs": [
    {
     "data": {
      "image/png": "[encoded data removed]",
      "text/plain": [
       "<Figure size 1440x432 with 1 Axes>"
      ]
     },
     "metadata": {
      "needs_background": "light"
     },
     "output_type": "display_data"
    }
   ],
   "source": [
    "desenhaGrafico(\"DCT_abs\", DCT_abs)"
   ]
  },
  {
   "cell_type": "markdown",
   "metadata": {},
   "source": [
    "# Questão 2"
   ]
  },
  {
   "cell_type": "markdown",
   "metadata": {},
   "source": [
    "2 Dada uma imagem I de dimensões RxC, desenvolva uma aplicação para:\n",
    "\n",
    "a) Exibir a DCT de s, sem o nível DC, e o valor do nível DC;\n",
    "\n",
    "b) Encontrar e exibir uma aproximação de I obtida preservando os n coeficientes AC (da DCT) mais importantes de I e zerando os demais. O parâmetro n é um inteiro no intervalo [0, RxC-1]."
   ]
  },
  {
   "cell_type": "code",
   "execution_count": null,
   "metadata": {},
   "outputs": [],
   "source": [
    "imagem = Image.open(\"lena.bmp\")\n",
    "imagem = np.asarray(imagem)\n",
    "print (imagem)"
   ]
  },
  {
   "cell_type": "code",
   "execution_count": null,
   "metadata": {},
   "outputs": [],
   "source": [
    "plt.imshow(imagem, cmap=\"gray\")\n",
    "plt.show()"
   ]
  },
  {
   "cell_type": "markdown",
   "metadata": {},
   "source": [
    "## Implementando a DCT 2d"
   ]
  },
  {
   "cell_type": "markdown",
   "metadata": {},
   "source": [
    "![Gráfico do processo de conversão](https://users.cs.cf.ac.uk/Dave.Marshall/Multimedia/Topic5.fig_117.gif)"
   ]
  },
  {
   "cell_type": "code",
   "execution_count": null,
   "metadata": {},
   "outputs": [],
   "source": [
    "plt.imshow(imagem, cmap=\"gray\")\n",
    "plt.savefig(\"LenaOrig.png\")"
   ]
  },
  {
   "cell_type": "code",
   "execution_count": null,
   "metadata": {},
   "outputs": [],
   "source": [
    "imgDCT = dct2d(imagem)"
   ]
  },
  {
   "cell_type": "code",
   "execution_count": null,
   "metadata": {},
   "outputs": [],
   "source": [
    "print(\"Valor DC: \", imgDCT[0][0])"
   ]
  },
  {
   "cell_type": "code",
   "execution_count": null,
   "metadata": {},
   "outputs": [],
   "source": [
    "plt.imshow(imgDCT, cmap=\"gray\")\n",
    "plt.savefig(\"imgDCT.png\")"
   ]
  },
  {
   "cell_type": "code",
   "execution_count": null,
   "metadata": {},
   "outputs": [],
   "source": [
    "imgDCT_semDC = imgDCT.copy()\n",
    "imgDCT_semDC[0][0] = 0"
   ]
  },
  {
   "cell_type": "code",
   "execution_count": null,
   "metadata": {},
   "outputs": [],
   "source": [
    "plt.imshow(imgDCT_semDC, cmap=\"gray\")\n",
    "plt.savefig(\"imgDCT_semDC.png\")"
   ]
  },
  {
   "cell_type": "code",
   "execution_count": null,
   "metadata": {
    "scrolled": true
   },
   "outputs": [],
   "source": [
    "imgIDCT = idct2d(imgDCT)"
   ]
  },
  {
   "cell_type": "code",
   "execution_count": null,
   "metadata": {},
   "outputs": [],
   "source": [
    "plt.imshow(imgIDCT, cmap=\"gray\")\n",
    "plt.savefig(\"imgIDCT.png\")"
   ]
  },
  {
   "cell_type": "markdown",
   "metadata": {},
   "source": [
    "b) Encontrar e exibir uma aproximação de I obtida preservando os n coeficientes AC (da DCT) mais importantes de I e zerando os demais. O parâmetro n é um inteiro no intervalo [0, RxC-1]."
   ]
  },
  {
   "cell_type": "markdown",
   "metadata": {},
   "source": [
    "### Passos do Algorítimo\n",
    "\n",
    "1- Calcular a transformada DCT da imagem (RxC)\n",
    "\n",
    "2- Criar uma matriz auxiliar de dimensão (RxC) que irá armazenar os índices seguindo uma ordem crescente de valores, ou seja, ordenando os pontos de acordo com seu valor na matriz\n",
    "\n",
    "3- Criar um filtro binario que elimina os valores a partir de N, e realizar uma multiplicação da imagem pelo filtro binário."
   ]
  },
  {
   "cell_type": "code",
   "execution_count": null,
   "metadata": {},
   "outputs": [],
   "source": [
    "LenaDCT = imgDCT"
   ]
  },
  {
   "cell_type": "code",
   "execution_count": null,
   "metadata": {},
   "outputs": [],
   "source": [
    "plt.imshow(fftpack.idctn(LenaDCT), cmap=\"gray\")"
   ]
  },
  {
   "cell_type": "code",
   "execution_count": null,
   "metadata": {},
   "outputs": [],
   "source": [
    "auxMatrix = []\n",
    "for i in range(len(LenaDCT)):\n",
    "    for j in range(len(LenaDCT)):\n",
    "        auxMatrix.append([i, j, LenaDCT[i][j]])"
   ]
  },
  {
   "cell_type": "code",
   "execution_count": null,
   "metadata": {},
   "outputs": [],
   "source": [
    "auxMatrix.sort(key=lambda x: abs(x[2]), reverse=True)"
   ]
  },
  {
   "cell_type": "code",
   "execution_count": null,
   "metadata": {},
   "outputs": [],
   "source": [
    "auxMatrix"
   ]
  },
  {
   "cell_type": "code",
   "execution_count": null,
   "metadata": {},
   "outputs": [],
   "source": [
    "listaComId = []\n",
    "for index,value in enumerate(auxMatrix):\n",
    "    listaComId.append([index,*value])"
   ]
  },
  {
   "cell_type": "code",
   "execution_count": null,
   "metadata": {},
   "outputs": [],
   "source": [
    "listaComId"
   ]
  },
  {
   "cell_type": "code",
   "execution_count": null,
   "metadata": {},
   "outputs": [],
   "source": [
    "OriginLenaDCT = np.zeros(LenaDCT.shape)\n",
    "IndexMatrix = np.zeros(LenaDCT.shape)\n",
    "for value in listaComId:\n",
    "\n",
    "    index, i, j, a_value = value\n",
    "    \n",
    "    OriginLenaDCT[i][j] = a_value\n",
    "    IndexMatrix[i][j] = index"
   ]
  },
  {
   "cell_type": "code",
   "execution_count": null,
   "metadata": {},
   "outputs": [],
   "source": [
    "LenaDCT == OriginLenaDCT"
   ]
  },
  {
   "cell_type": "code",
   "execution_count": null,
   "metadata": {},
   "outputs": [],
   "source": [
    "IndexMatrix"
   ]
  },
  {
   "cell_type": "code",
   "execution_count": null,
   "metadata": {},
   "outputs": [],
   "source": [
    "IndexMatrixEdited = IndexMatrix.copy()"
   ]
  },
  {
   "cell_type": "markdown",
   "metadata": {},
   "source": [
    "n coeficientes AC (da DCT) mais importantes de I e zerando os demais."
   ]
  },
  {
   "cell_type": "code",
   "execution_count": null,
   "metadata": {},
   "outputs": [],
   "source": [
    "prompt = \"Digite o tamanho de dados a ser tratado: MAX=\" + str(LenaDCT.shape[1]**2) + \" : \" \n",
    "n = int(input(prompt))\n",
    "if(n > (LenaDCT.shape[1])**2):\n",
    "    print(\"Valor entrado é maior\")\n",
    "    n = (LenaDCT.shape[1])**2\n",
    "print(n)"
   ]
  },
  {
   "cell_type": "code",
   "execution_count": null,
   "metadata": {},
   "outputs": [],
   "source": [
    "IndexMatrixEdited[IndexMatrixEdited > n] = 0"
   ]
  },
  {
   "cell_type": "code",
   "execution_count": null,
   "metadata": {},
   "outputs": [],
   "source": [
    "IndexMatrixEdited"
   ]
  },
  {
   "cell_type": "code",
   "execution_count": null,
   "metadata": {},
   "outputs": [],
   "source": [
    "IndexMatrixEdited[IndexMatrixEdited > 0] = 1"
   ]
  },
  {
   "cell_type": "code",
   "execution_count": null,
   "metadata": {},
   "outputs": [],
   "source": [
    "IndexMatrixEdited"
   ]
  },
  {
   "cell_type": "code",
   "execution_count": null,
   "metadata": {},
   "outputs": [],
   "source": [
    "LenaDCT_Transform = np.multiply(IndexMatrixEdited, LenaDCT)"
   ]
  },
  {
   "cell_type": "code",
   "execution_count": null,
   "metadata": {},
   "outputs": [],
   "source": [
    "plt.imshow(idct2d(LenaDCT_Transform), cmap=\"gray\")\n",
    "name_fig = \"LenaDCT_Transform\"  + str(n)\n",
    "plt.savefig(name_fig)"
   ]
  },
  {
   "cell_type": "code",
   "execution_count": null,
   "metadata": {},
   "outputs": [],
   "source": []
  },
  {
   "cell_type": "code",
   "execution_count": null,
   "metadata": {},
   "outputs": [],
   "source": []
  }
 ],
 "metadata": {
  "kernelspec": {
   "display_name": "Python 3",
   "language": "python",
   "name": "python3"
  },
  "language_info": {
   "codemirror_mode": {
    "name": "ipython",
    "version": 3
   },
   "file_extension": ".py",
   "mimetype": "text/x-python",
   "name": "python",
   "nbconvert_exporter": "python",
   "pygments_lexer": "ipython3",
   "version": "3.6.8"
  }
 },
 "nbformat": 4,
 "nbformat_minor": 2
}
