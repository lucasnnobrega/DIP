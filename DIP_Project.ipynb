{
  "nbformat": 4,
  "nbformat_minor": 0,
  "metadata": {
    "colab": {
      "name": "DIP_Project.ipynb",
      "version": "0.3.2",
      "provenance": [],
      "include_colab_link": true
    },
    "kernelspec": {
      "name": "python3",
      "display_name": "Python 3"
    }
  },
  "cells": [
    {
      "cell_type": "markdown",
      "metadata": {
        "id": "view-in-github",
        "colab_type": "text"
      },
      "source": [
        "<a href=\"https://colab.research.google.com/github/lucasnnobrega/DIP/blob/develop/DIP_Project.ipynb\" target=\"_parent\"><img src=\"https://colab.research.google.com/assets/colab-badge.svg\" alt=\"Open In Colab\"/></a>"
      ]
    },
    {
      "cell_type": "markdown",
      "metadata": {
        "id": "_90q-C8m3NeN",
        "colab_type": "text"
      },
      "source": [
        "Introdução ao Processamento Digital de Imagens\n",
        "\n",
        "Prof. Leonardo\n",
        "\n",
        "Módulo 1 do Trabalho Prático\n",
        "\n",
        "Data de entrega: 07/08/2019\n",
        "\n",
        "Desenvolva um sistema para abrir, exibir, manipular e salvar imagens RGB com 24 bits/pixel (8 bits/componente/pixel). O sistema deve ter a seguinte funcionalidade:\n",
        "\n",
        "1. Conversão RGB-YIQ-RGB (cuidado com os limites de R, G e B na volta!)\n",
        "2. Exibição de bandas individuais (R, G e B) como imagens monocromáticas ou coloridas (em tons de R, G ou B, respectivamente)\n",
        "3. Negativo\n",
        "4. Controle de brilho multiplicativo (s = r.c, c real não negativo) (cuidado com os limites de R, G e B)\n",
        "5. Convolução m * n com máscara especificada pelo usuário em arquivo texto. Testar com filtros Média e Sobel.\n",
        "6. Filtro mediana m * n.\n",
        "\n",
        "O sistema deve ser desenvolvido em uma linguagem de programação de sua escolha. Não use bibliotecas ou funções especiais de processamento de imagens. Para os itens 3 e 4, duas formas de aplicação devem ser testadas: em RGB (banda a banda) e na banda Y, com posterior conversão para RGB.\n",
        "\n",
        "Observações:\n",
        "\n",
        "O trabalho pode ser feito em grupo, com até seis componentes.\n",
        "\n",
        "Para integralização das notas, o trabalho deve ser apresentado na data e horário marcados, juntamente com um relatório impresso, contendo pelo menos as seguintes seções: introdução (contextualização e apresentação do tema, fundamentação teórica, objetivos), materiais e métodos (descrição das atividades desenvolvidas e das ferramentas e conhecimentos utilizados) resultados, discussão (problemas e dificuldades encontradas, comentários críticos sobre os resultados) e conclusão. Cada componente do grupo deve estar familiarizado com o trabalho desenvolvido pelos demais componentes do seu grupo, e todos devem comparecer à apresentação dos trabalhos.\n"
      ]
    },
    {
      "cell_type": "code",
      "metadata": {
        "id": "K6NLYkz23EOT",
        "colab_type": "code",
        "colab": {}
      },
      "source": [
        ""
      ],
      "execution_count": 0,
      "outputs": []
    }
  ]
}